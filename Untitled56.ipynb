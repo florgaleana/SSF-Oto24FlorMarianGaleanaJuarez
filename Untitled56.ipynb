{
  "nbformat": 4,
  "nbformat_minor": 0,
  "metadata": {
    "colab": {
      "provenance": [],
      "mount_file_id": "1WyzfG69_qgO1iaqeqx7XulxDojThaXeF",
      "authorship_tag": "ABX9TyPaaG7cKa9HdXCIpbwv1Uim",
      "include_colab_link": true
    },
    "kernelspec": {
      "name": "python3",
      "display_name": "Python 3"
    },
    "language_info": {
      "name": "python"
    }
  },
  "cells": [
    {
      "cell_type": "markdown",
      "metadata": {
        "id": "view-in-github",
        "colab_type": "text"
      },
      "source": [
        "<a href=\"https://colab.research.google.com/github/florgaleana/SSF-Oto24FlorMarianGaleanaJuarez/blob/main/Untitled56.ipynb\" target=\"_parent\"><img src=\"https://colab.research.google.com/assets/colab-badge.svg\" alt=\"Open In Colab\"/></a>"
      ]
    },
    {
      "cell_type": "code",
      "execution_count": null,
      "metadata": {
        "id": "pI5V-7nn1sf3"
      },
      "outputs": [],
      "source": [
        "import numpy as np\n",
        "import math as mt\n",
        "import pandas as pd\n",
        "import matplotlib.pyplot as plt\n",
        "from __future__ import print_function,division"
      ]
    },
    {
      "cell_type": "code",
      "source": [
        "def horner(coeffs,x):\n",
        "      acc=0\n",
        "      for c in reversed(coeffs):\n",
        "         acc = acc*x + c\n",
        "      return acc"
      ],
      "metadata": {
        "id": "Kdf-63ct2CpS"
      },
      "execution_count": null,
      "outputs": []
    },
    {
      "cell_type": "code",
      "source": [
        "mt.factorial(0)"
      ],
      "metadata": {
        "colab": {
          "base_uri": "https://localhost:8080/"
        },
        "id": "O6d8fMY-2HHS",
        "outputId": "1313e4c2-77ec-47bc-9c6c-6ca24e832543"
      },
      "execution_count": null,
      "outputs": [
        {
          "output_type": "execute_result",
          "data": {
            "text/plain": [
              "1"
            ]
          },
          "metadata": {},
          "execution_count": 4
        }
      ]
    },
    {
      "cell_type": "markdown",
      "source": [
        "Código Más Ineficiente"
      ],
      "metadata": {
        "id": "lxuZ5d_J2kIN"
      }
    },
    {
      "cell_type": "code",
      "source": [
        "def evalupoly(coeff,x):\n",
        "    acc = 0\n",
        "    for i,a in enumerate(coeff): #Esta funcion da el indice y el numero de ese indice\n",
        "        acc += (x**i)*a #i = 0,1,2... y a es igual los valores\n",
        "    return acc"
      ],
      "metadata": {
        "id": "FqSooetr3AeE"
      },
      "execution_count": null,
      "outputs": []
    },
    {
      "cell_type": "code",
      "source": [
        "evalupoly((-1,2,2,3,1),2)"
      ],
      "metadata": {
        "colab": {
          "base_uri": "https://localhost:8080/"
        },
        "id": "PwoqaYns3BqY",
        "outputId": "ea363777-200e-40a3-c857-d68394e89b54"
      },
      "execution_count": null,
      "outputs": [
        {
          "output_type": "execute_result",
          "data": {
            "text/plain": [
              "51"
            ]
          },
          "metadata": {},
          "execution_count": 19
        }
      ]
    },
    {
      "cell_type": "markdown",
      "source": [
        "Modo Iterativo"
      ],
      "metadata": {
        "id": "ktb-q0qk3Fl4"
      }
    },
    {
      "cell_type": "code",
      "source": [
        "def poly_iter(A, x):\n",
        "      p = 0 #Inializa las variables\n",
        "      xn = 1\n",
        "      for a in A: #A son los coeficientes\n",
        "          p += xn * a # el primer coeficiente, y de ahi los demas\n",
        "          xn *= x #esto hara que tengamos los exponentes\n",
        "      return p"
      ],
      "metadata": {
        "id": "ek_Gop9B3fEH"
      },
      "execution_count": null,
      "outputs": []
    },
    {
      "cell_type": "code",
      "source": [
        "poly_iter((-1,2,2,3,1),2)"
      ],
      "metadata": {
        "id": "gKzXq05p3I2B",
        "colab": {
          "base_uri": "https://localhost:8080/"
        },
        "outputId": "a1f5d6c9-9394-43c1-fbce-3a93ad52dce5"
      },
      "execution_count": null,
      "outputs": [
        {
          "output_type": "execute_result",
          "data": {
            "text/plain": [
              "51"
            ]
          },
          "metadata": {},
          "execution_count": 25
        }
      ]
    },
    {
      "cell_type": "markdown",
      "source": [
        "Regla de Horner"
      ],
      "metadata": {
        "id": "pQNEcbRq3rzv"
      }
    },
    {
      "cell_type": "code",
      "source": [
        "def poly_horner(A, x): # A coeficiente en forma de lista []\n",
        "    p = A[-1] #A[-1] es para que vaya del ultimo al primero\n",
        "    i = len(A) - 2 #len es para dar el tamaño de A\n",
        "    while i >= 0:\n",
        "        p = p * x + A[i]\n",
        "        i -= 1\n",
        "    return p"
      ],
      "metadata": {
        "id": "6g4EsRXe38pv"
      },
      "execution_count": null,
      "outputs": []
    },
    {
      "cell_type": "code",
      "source": [
        "poly_horner((-1,2,2,3,1),2)"
      ],
      "metadata": {
        "colab": {
          "base_uri": "https://localhost:8080/"
        },
        "id": "owA70mXh3_fN",
        "outputId": "fef4436c-a03b-4c11-f3c1-3139f3643673"
      },
      "execution_count": null,
      "outputs": [
        {
          "output_type": "execute_result",
          "data": {
            "text/plain": [
              "51"
            ]
          },
          "metadata": {},
          "execution_count": 27
        }
      ]
    },
    {
      "cell_type": "markdown",
      "source": [
        "Función Seno en serie de potencias"
      ],
      "metadata": {
        "id": "KBzVNo_D4EBQ"
      }
    },
    {
      "cell_type": "code",
      "source": [
        "def cos(x,k):\n",
        "    valor = 0\n",
        "    A = []\n",
        "    for i in range(k+1):\n",
        "      p = (((-1)**i) * x**(2*i))/(mt.factorial(2*i))\n",
        "      valor = valor + p\n",
        "    return (valor)"
      ],
      "metadata": {
        "id": "KpG86qOB4Phw"
      },
      "execution_count": null,
      "outputs": []
    },
    {
      "cell_type": "code",
      "source": [
        "cos (7,1700)"
      ],
      "metadata": {
        "colab": {
          "base_uri": "https://localhost:8080/"
        },
        "id": "mqiff6uA4Iw6",
        "outputId": "ea41a13d-0237-4340-d23f-92705ce7aeb1"
      },
      "execution_count": null,
      "outputs": [
        {
          "output_type": "execute_result",
          "data": {
            "text/plain": [
              "0.7539022543432953"
            ]
          },
          "metadata": {},
          "execution_count": 29
        }
      ]
    },
    {
      "cell_type": "code",
      "source": [
        "iteraciones = [10,20,50,100,1000]\n",
        "valores_x = [0,5,8,16,32,60,80,100]"
      ],
      "metadata": {
        "id": "Tl_Ut61t4WV5"
      },
      "execution_count": null,
      "outputs": []
    },
    {
      "cell_type": "code",
      "source": [
        "def tabla(a,b):\n",
        "   val_x = []\n",
        "   itera = []\n",
        "   val_cos = []\n",
        "   error_re = []\n",
        "   cos_v = []\n",
        "   for i in (a):\n",
        "    for j in (b):\n",
        "        val_x.append(i)\n",
        "        itera.append(j)\n",
        "        val_cos.append(cos(i,j))\n",
        "        error_re.append((cos(i,j) - mt.cos(i))/mt.cos(i))\n",
        "        cos_v.append(mt.cos(i))\n",
        "        tabla = np.column_stack((val_x, itera,val_cos,cos_v,error_re))\n",
        "        tabla_res = pd.DataFrame(tabla,columns=['X','Iteraiones','Suma',\"cos\",'Error'])\n",
        "\n",
        "\n",
        "\n",
        "   return tabla_res"
      ],
      "metadata": {
        "id": "MldzH5GX4YAV"
      },
      "execution_count": null,
      "outputs": []
    },
    {
      "cell_type": "code",
      "source": [
        "tabla(valores_x,iteraciones)"
      ],
      "metadata": {
        "colab": {
          "base_uri": "https://localhost:8080/",
          "height": 1000
        },
        "id": "W9SXHuTi4cgS",
        "outputId": "5b27ae68-c137-4e93-c3fe-a08f52739271"
      },
      "execution_count": null,
      "outputs": [
        {
          "output_type": "execute_result",
          "data": {
            "text/plain": [
              "        X  Iteraiones          Suma       cos         Error\n",
              "0     0.0        10.0  1.000000e+00  1.000000  0.000000e+00\n",
              "1     0.0        20.0  1.000000e+00  1.000000  0.000000e+00\n",
              "2     0.0        50.0  1.000000e+00  1.000000  0.000000e+00\n",
              "3     0.0       100.0  1.000000e+00  1.000000  0.000000e+00\n",
              "4     0.0      1000.0  1.000000e+00  1.000000  0.000000e+00\n",
              "5     5.0        10.0  2.836642e-01  0.283662  7.151709e-06\n",
              "6     5.0        20.0  2.836622e-01  0.283662  1.761251e-15\n",
              "7     5.0        50.0  2.836622e-01  0.283662  1.761251e-15\n",
              "8     5.0       100.0  2.836622e-01  0.283662  1.761251e-15\n",
              "9     5.0      1000.0  2.836622e-01  0.283662  1.761251e-15\n",
              "10    8.0        10.0 -8.677416e-02 -0.145500 -4.036141e-01\n",
              "11    8.0        20.0 -1.455000e-01 -0.145500 -4.784259e-13\n",
              "12    8.0        50.0 -1.455000e-01 -0.145500 -7.611321e-14\n",
              "13    8.0       100.0 -1.455000e-01 -0.145500 -7.611321e-14\n",
              "14    8.0      1000.0 -1.455000e-01 -0.145500 -7.611321e-14\n",
              "15   16.0        10.0  1.848709e+05 -0.957659 -1.930455e+05\n",
              "16   16.0        20.0 -7.233984e-01 -0.957659 -2.446183e-01\n",
              "17   16.0        50.0 -9.576595e-01 -0.957659 -1.164118e-10\n",
              "18   16.0       100.0 -9.576595e-01 -0.957659 -1.164118e-10\n",
              "19   16.0      1000.0 -9.576595e-01 -0.957659 -1.164118e-10\n",
              "20   32.0        10.0  3.740488e+11  0.834223  4.483797e+11\n",
              "21   32.0        20.0  7.511996e+11  0.834223  9.004777e+11\n",
              "22   32.0        50.0  8.339676e-01  0.834223 -3.066086e-04\n",
              "23   32.0       100.0  8.339676e-01  0.834223 -3.066124e-04\n",
              "24   32.0      1000.0  8.339676e-01  0.834223 -3.066124e-04\n",
              "25   60.0        10.0  1.356797e+17 -0.952413 -1.424589e+17\n",
              "26   60.0        20.0  1.132192e+23 -0.952413 -1.188761e+23\n",
              "27   60.0        50.0  1.826468e+19 -0.952413 -1.917727e+19\n",
              "28   60.0       100.0  1.596800e+09 -0.952413 -1.676584e+09\n",
              "29   60.0      1000.0  1.596800e+09 -0.952413 -1.676584e+09\n",
              "30   80.0        10.0  4.470466e+19 -0.110387 -4.049803e+20\n",
              "31   80.0        20.0  1.304690e+28 -0.110387 -1.181921e+29\n",
              "32   80.0        50.0  8.442218e+31 -0.110387 -7.647820e+32\n",
              "33   80.0       100.0 -8.643526e+16 -0.110387  7.830186e+17\n",
              "34   80.0      1000.0 -8.643526e+16 -0.110387  7.830186e+17\n",
              "35  100.0        10.0  3.958792e+21  0.862319  4.590868e+21\n",
              "36  100.0        20.0  1.058262e+32  0.862319  1.227228e+32\n",
              "37  100.0        50.0  5.330353e+41  0.862319  6.181417e+41\n",
              "38  100.0       100.0 -3.771888e+25  0.862319 -4.374122e+25\n",
              "39  100.0      1000.0 -4.023252e+25  0.862319 -4.665620e+25"
            ],
            "text/html": [
              "\n",
              "  <div id=\"df-d467190a-5a46-4404-81ed-f9d60cb34228\" class=\"colab-df-container\">\n",
              "    <div>\n",
              "<style scoped>\n",
              "    .dataframe tbody tr th:only-of-type {\n",
              "        vertical-align: middle;\n",
              "    }\n",
              "\n",
              "    .dataframe tbody tr th {\n",
              "        vertical-align: top;\n",
              "    }\n",
              "\n",
              "    .dataframe thead th {\n",
              "        text-align: right;\n",
              "    }\n",
              "</style>\n",
              "<table border=\"1\" class=\"dataframe\">\n",
              "  <thead>\n",
              "    <tr style=\"text-align: right;\">\n",
              "      <th></th>\n",
              "      <th>X</th>\n",
              "      <th>Iteraiones</th>\n",
              "      <th>Suma</th>\n",
              "      <th>cos</th>\n",
              "      <th>Error</th>\n",
              "    </tr>\n",
              "  </thead>\n",
              "  <tbody>\n",
              "    <tr>\n",
              "      <th>0</th>\n",
              "      <td>0.0</td>\n",
              "      <td>10.0</td>\n",
              "      <td>1.000000e+00</td>\n",
              "      <td>1.000000</td>\n",
              "      <td>0.000000e+00</td>\n",
              "    </tr>\n",
              "    <tr>\n",
              "      <th>1</th>\n",
              "      <td>0.0</td>\n",
              "      <td>20.0</td>\n",
              "      <td>1.000000e+00</td>\n",
              "      <td>1.000000</td>\n",
              "      <td>0.000000e+00</td>\n",
              "    </tr>\n",
              "    <tr>\n",
              "      <th>2</th>\n",
              "      <td>0.0</td>\n",
              "      <td>50.0</td>\n",
              "      <td>1.000000e+00</td>\n",
              "      <td>1.000000</td>\n",
              "      <td>0.000000e+00</td>\n",
              "    </tr>\n",
              "    <tr>\n",
              "      <th>3</th>\n",
              "      <td>0.0</td>\n",
              "      <td>100.0</td>\n",
              "      <td>1.000000e+00</td>\n",
              "      <td>1.000000</td>\n",
              "      <td>0.000000e+00</td>\n",
              "    </tr>\n",
              "    <tr>\n",
              "      <th>4</th>\n",
              "      <td>0.0</td>\n",
              "      <td>1000.0</td>\n",
              "      <td>1.000000e+00</td>\n",
              "      <td>1.000000</td>\n",
              "      <td>0.000000e+00</td>\n",
              "    </tr>\n",
              "    <tr>\n",
              "      <th>5</th>\n",
              "      <td>5.0</td>\n",
              "      <td>10.0</td>\n",
              "      <td>2.836642e-01</td>\n",
              "      <td>0.283662</td>\n",
              "      <td>7.151709e-06</td>\n",
              "    </tr>\n",
              "    <tr>\n",
              "      <th>6</th>\n",
              "      <td>5.0</td>\n",
              "      <td>20.0</td>\n",
              "      <td>2.836622e-01</td>\n",
              "      <td>0.283662</td>\n",
              "      <td>1.761251e-15</td>\n",
              "    </tr>\n",
              "    <tr>\n",
              "      <th>7</th>\n",
              "      <td>5.0</td>\n",
              "      <td>50.0</td>\n",
              "      <td>2.836622e-01</td>\n",
              "      <td>0.283662</td>\n",
              "      <td>1.761251e-15</td>\n",
              "    </tr>\n",
              "    <tr>\n",
              "      <th>8</th>\n",
              "      <td>5.0</td>\n",
              "      <td>100.0</td>\n",
              "      <td>2.836622e-01</td>\n",
              "      <td>0.283662</td>\n",
              "      <td>1.761251e-15</td>\n",
              "    </tr>\n",
              "    <tr>\n",
              "      <th>9</th>\n",
              "      <td>5.0</td>\n",
              "      <td>1000.0</td>\n",
              "      <td>2.836622e-01</td>\n",
              "      <td>0.283662</td>\n",
              "      <td>1.761251e-15</td>\n",
              "    </tr>\n",
              "    <tr>\n",
              "      <th>10</th>\n",
              "      <td>8.0</td>\n",
              "      <td>10.0</td>\n",
              "      <td>-8.677416e-02</td>\n",
              "      <td>-0.145500</td>\n",
              "      <td>-4.036141e-01</td>\n",
              "    </tr>\n",
              "    <tr>\n",
              "      <th>11</th>\n",
              "      <td>8.0</td>\n",
              "      <td>20.0</td>\n",
              "      <td>-1.455000e-01</td>\n",
              "      <td>-0.145500</td>\n",
              "      <td>-4.784259e-13</td>\n",
              "    </tr>\n",
              "    <tr>\n",
              "      <th>12</th>\n",
              "      <td>8.0</td>\n",
              "      <td>50.0</td>\n",
              "      <td>-1.455000e-01</td>\n",
              "      <td>-0.145500</td>\n",
              "      <td>-7.611321e-14</td>\n",
              "    </tr>\n",
              "    <tr>\n",
              "      <th>13</th>\n",
              "      <td>8.0</td>\n",
              "      <td>100.0</td>\n",
              "      <td>-1.455000e-01</td>\n",
              "      <td>-0.145500</td>\n",
              "      <td>-7.611321e-14</td>\n",
              "    </tr>\n",
              "    <tr>\n",
              "      <th>14</th>\n",
              "      <td>8.0</td>\n",
              "      <td>1000.0</td>\n",
              "      <td>-1.455000e-01</td>\n",
              "      <td>-0.145500</td>\n",
              "      <td>-7.611321e-14</td>\n",
              "    </tr>\n",
              "    <tr>\n",
              "      <th>15</th>\n",
              "      <td>16.0</td>\n",
              "      <td>10.0</td>\n",
              "      <td>1.848709e+05</td>\n",
              "      <td>-0.957659</td>\n",
              "      <td>-1.930455e+05</td>\n",
              "    </tr>\n",
              "    <tr>\n",
              "      <th>16</th>\n",
              "      <td>16.0</td>\n",
              "      <td>20.0</td>\n",
              "      <td>-7.233984e-01</td>\n",
              "      <td>-0.957659</td>\n",
              "      <td>-2.446183e-01</td>\n",
              "    </tr>\n",
              "    <tr>\n",
              "      <th>17</th>\n",
              "      <td>16.0</td>\n",
              "      <td>50.0</td>\n",
              "      <td>-9.576595e-01</td>\n",
              "      <td>-0.957659</td>\n",
              "      <td>-1.164118e-10</td>\n",
              "    </tr>\n",
              "    <tr>\n",
              "      <th>18</th>\n",
              "      <td>16.0</td>\n",
              "      <td>100.0</td>\n",
              "      <td>-9.576595e-01</td>\n",
              "      <td>-0.957659</td>\n",
              "      <td>-1.164118e-10</td>\n",
              "    </tr>\n",
              "    <tr>\n",
              "      <th>19</th>\n",
              "      <td>16.0</td>\n",
              "      <td>1000.0</td>\n",
              "      <td>-9.576595e-01</td>\n",
              "      <td>-0.957659</td>\n",
              "      <td>-1.164118e-10</td>\n",
              "    </tr>\n",
              "    <tr>\n",
              "      <th>20</th>\n",
              "      <td>32.0</td>\n",
              "      <td>10.0</td>\n",
              "      <td>3.740488e+11</td>\n",
              "      <td>0.834223</td>\n",
              "      <td>4.483797e+11</td>\n",
              "    </tr>\n",
              "    <tr>\n",
              "      <th>21</th>\n",
              "      <td>32.0</td>\n",
              "      <td>20.0</td>\n",
              "      <td>7.511996e+11</td>\n",
              "      <td>0.834223</td>\n",
              "      <td>9.004777e+11</td>\n",
              "    </tr>\n",
              "    <tr>\n",
              "      <th>22</th>\n",
              "      <td>32.0</td>\n",
              "      <td>50.0</td>\n",
              "      <td>8.339676e-01</td>\n",
              "      <td>0.834223</td>\n",
              "      <td>-3.066086e-04</td>\n",
              "    </tr>\n",
              "    <tr>\n",
              "      <th>23</th>\n",
              "      <td>32.0</td>\n",
              "      <td>100.0</td>\n",
              "      <td>8.339676e-01</td>\n",
              "      <td>0.834223</td>\n",
              "      <td>-3.066124e-04</td>\n",
              "    </tr>\n",
              "    <tr>\n",
              "      <th>24</th>\n",
              "      <td>32.0</td>\n",
              "      <td>1000.0</td>\n",
              "      <td>8.339676e-01</td>\n",
              "      <td>0.834223</td>\n",
              "      <td>-3.066124e-04</td>\n",
              "    </tr>\n",
              "    <tr>\n",
              "      <th>25</th>\n",
              "      <td>60.0</td>\n",
              "      <td>10.0</td>\n",
              "      <td>1.356797e+17</td>\n",
              "      <td>-0.952413</td>\n",
              "      <td>-1.424589e+17</td>\n",
              "    </tr>\n",
              "    <tr>\n",
              "      <th>26</th>\n",
              "      <td>60.0</td>\n",
              "      <td>20.0</td>\n",
              "      <td>1.132192e+23</td>\n",
              "      <td>-0.952413</td>\n",
              "      <td>-1.188761e+23</td>\n",
              "    </tr>\n",
              "    <tr>\n",
              "      <th>27</th>\n",
              "      <td>60.0</td>\n",
              "      <td>50.0</td>\n",
              "      <td>1.826468e+19</td>\n",
              "      <td>-0.952413</td>\n",
              "      <td>-1.917727e+19</td>\n",
              "    </tr>\n",
              "    <tr>\n",
              "      <th>28</th>\n",
              "      <td>60.0</td>\n",
              "      <td>100.0</td>\n",
              "      <td>1.596800e+09</td>\n",
              "      <td>-0.952413</td>\n",
              "      <td>-1.676584e+09</td>\n",
              "    </tr>\n",
              "    <tr>\n",
              "      <th>29</th>\n",
              "      <td>60.0</td>\n",
              "      <td>1000.0</td>\n",
              "      <td>1.596800e+09</td>\n",
              "      <td>-0.952413</td>\n",
              "      <td>-1.676584e+09</td>\n",
              "    </tr>\n",
              "    <tr>\n",
              "      <th>30</th>\n",
              "      <td>80.0</td>\n",
              "      <td>10.0</td>\n",
              "      <td>4.470466e+19</td>\n",
              "      <td>-0.110387</td>\n",
              "      <td>-4.049803e+20</td>\n",
              "    </tr>\n",
              "    <tr>\n",
              "      <th>31</th>\n",
              "      <td>80.0</td>\n",
              "      <td>20.0</td>\n",
              "      <td>1.304690e+28</td>\n",
              "      <td>-0.110387</td>\n",
              "      <td>-1.181921e+29</td>\n",
              "    </tr>\n",
              "    <tr>\n",
              "      <th>32</th>\n",
              "      <td>80.0</td>\n",
              "      <td>50.0</td>\n",
              "      <td>8.442218e+31</td>\n",
              "      <td>-0.110387</td>\n",
              "      <td>-7.647820e+32</td>\n",
              "    </tr>\n",
              "    <tr>\n",
              "      <th>33</th>\n",
              "      <td>80.0</td>\n",
              "      <td>100.0</td>\n",
              "      <td>-8.643526e+16</td>\n",
              "      <td>-0.110387</td>\n",
              "      <td>7.830186e+17</td>\n",
              "    </tr>\n",
              "    <tr>\n",
              "      <th>34</th>\n",
              "      <td>80.0</td>\n",
              "      <td>1000.0</td>\n",
              "      <td>-8.643526e+16</td>\n",
              "      <td>-0.110387</td>\n",
              "      <td>7.830186e+17</td>\n",
              "    </tr>\n",
              "    <tr>\n",
              "      <th>35</th>\n",
              "      <td>100.0</td>\n",
              "      <td>10.0</td>\n",
              "      <td>3.958792e+21</td>\n",
              "      <td>0.862319</td>\n",
              "      <td>4.590868e+21</td>\n",
              "    </tr>\n",
              "    <tr>\n",
              "      <th>36</th>\n",
              "      <td>100.0</td>\n",
              "      <td>20.0</td>\n",
              "      <td>1.058262e+32</td>\n",
              "      <td>0.862319</td>\n",
              "      <td>1.227228e+32</td>\n",
              "    </tr>\n",
              "    <tr>\n",
              "      <th>37</th>\n",
              "      <td>100.0</td>\n",
              "      <td>50.0</td>\n",
              "      <td>5.330353e+41</td>\n",
              "      <td>0.862319</td>\n",
              "      <td>6.181417e+41</td>\n",
              "    </tr>\n",
              "    <tr>\n",
              "      <th>38</th>\n",
              "      <td>100.0</td>\n",
              "      <td>100.0</td>\n",
              "      <td>-3.771888e+25</td>\n",
              "      <td>0.862319</td>\n",
              "      <td>-4.374122e+25</td>\n",
              "    </tr>\n",
              "    <tr>\n",
              "      <th>39</th>\n",
              "      <td>100.0</td>\n",
              "      <td>1000.0</td>\n",
              "      <td>-4.023252e+25</td>\n",
              "      <td>0.862319</td>\n",
              "      <td>-4.665620e+25</td>\n",
              "    </tr>\n",
              "  </tbody>\n",
              "</table>\n",
              "</div>\n",
              "    <div class=\"colab-df-buttons\">\n",
              "\n",
              "  <div class=\"colab-df-container\">\n",
              "    <button class=\"colab-df-convert\" onclick=\"convertToInteractive('df-d467190a-5a46-4404-81ed-f9d60cb34228')\"\n",
              "            title=\"Convert this dataframe to an interactive table.\"\n",
              "            style=\"display:none;\">\n",
              "\n",
              "  <svg xmlns=\"http://www.w3.org/2000/svg\" height=\"24px\" viewBox=\"0 -960 960 960\">\n",
              "    <path d=\"M120-120v-720h720v720H120Zm60-500h600v-160H180v160Zm220 220h160v-160H400v160Zm0 220h160v-160H400v160ZM180-400h160v-160H180v160Zm440 0h160v-160H620v160ZM180-180h160v-160H180v160Zm440 0h160v-160H620v160Z\"/>\n",
              "  </svg>\n",
              "    </button>\n",
              "\n",
              "  <style>\n",
              "    .colab-df-container {\n",
              "      display:flex;\n",
              "      gap: 12px;\n",
              "    }\n",
              "\n",
              "    .colab-df-convert {\n",
              "      background-color: #E8F0FE;\n",
              "      border: none;\n",
              "      border-radius: 50%;\n",
              "      cursor: pointer;\n",
              "      display: none;\n",
              "      fill: #1967D2;\n",
              "      height: 32px;\n",
              "      padding: 0 0 0 0;\n",
              "      width: 32px;\n",
              "    }\n",
              "\n",
              "    .colab-df-convert:hover {\n",
              "      background-color: #E2EBFA;\n",
              "      box-shadow: 0px 1px 2px rgba(60, 64, 67, 0.3), 0px 1px 3px 1px rgba(60, 64, 67, 0.15);\n",
              "      fill: #174EA6;\n",
              "    }\n",
              "\n",
              "    .colab-df-buttons div {\n",
              "      margin-bottom: 4px;\n",
              "    }\n",
              "\n",
              "    [theme=dark] .colab-df-convert {\n",
              "      background-color: #3B4455;\n",
              "      fill: #D2E3FC;\n",
              "    }\n",
              "\n",
              "    [theme=dark] .colab-df-convert:hover {\n",
              "      background-color: #434B5C;\n",
              "      box-shadow: 0px 1px 3px 1px rgba(0, 0, 0, 0.15);\n",
              "      filter: drop-shadow(0px 1px 2px rgba(0, 0, 0, 0.3));\n",
              "      fill: #FFFFFF;\n",
              "    }\n",
              "  </style>\n",
              "\n",
              "    <script>\n",
              "      const buttonEl =\n",
              "        document.querySelector('#df-d467190a-5a46-4404-81ed-f9d60cb34228 button.colab-df-convert');\n",
              "      buttonEl.style.display =\n",
              "        google.colab.kernel.accessAllowed ? 'block' : 'none';\n",
              "\n",
              "      async function convertToInteractive(key) {\n",
              "        const element = document.querySelector('#df-d467190a-5a46-4404-81ed-f9d60cb34228');\n",
              "        const dataTable =\n",
              "          await google.colab.kernel.invokeFunction('convertToInteractive',\n",
              "                                                    [key], {});\n",
              "        if (!dataTable) return;\n",
              "\n",
              "        const docLinkHtml = 'Like what you see? Visit the ' +\n",
              "          '<a target=\"_blank\" href=https://colab.research.google.com/notebooks/data_table.ipynb>data table notebook</a>'\n",
              "          + ' to learn more about interactive tables.';\n",
              "        element.innerHTML = '';\n",
              "        dataTable['output_type'] = 'display_data';\n",
              "        await google.colab.output.renderOutput(dataTable, element);\n",
              "        const docLink = document.createElement('div');\n",
              "        docLink.innerHTML = docLinkHtml;\n",
              "        element.appendChild(docLink);\n",
              "      }\n",
              "    </script>\n",
              "  </div>\n",
              "\n",
              "\n",
              "<div id=\"df-909bab7f-8dbe-4fc0-85c4-250f42523110\">\n",
              "  <button class=\"colab-df-quickchart\" onclick=\"quickchart('df-909bab7f-8dbe-4fc0-85c4-250f42523110')\"\n",
              "            title=\"Suggest charts\"\n",
              "            style=\"display:none;\">\n",
              "\n",
              "<svg xmlns=\"http://www.w3.org/2000/svg\" height=\"24px\"viewBox=\"0 0 24 24\"\n",
              "     width=\"24px\">\n",
              "    <g>\n",
              "        <path d=\"M19 3H5c-1.1 0-2 .9-2 2v14c0 1.1.9 2 2 2h14c1.1 0 2-.9 2-2V5c0-1.1-.9-2-2-2zM9 17H7v-7h2v7zm4 0h-2V7h2v10zm4 0h-2v-4h2v4z\"/>\n",
              "    </g>\n",
              "</svg>\n",
              "  </button>\n",
              "\n",
              "<style>\n",
              "  .colab-df-quickchart {\n",
              "      --bg-color: #E8F0FE;\n",
              "      --fill-color: #1967D2;\n",
              "      --hover-bg-color: #E2EBFA;\n",
              "      --hover-fill-color: #174EA6;\n",
              "      --disabled-fill-color: #AAA;\n",
              "      --disabled-bg-color: #DDD;\n",
              "  }\n",
              "\n",
              "  [theme=dark] .colab-df-quickchart {\n",
              "      --bg-color: #3B4455;\n",
              "      --fill-color: #D2E3FC;\n",
              "      --hover-bg-color: #434B5C;\n",
              "      --hover-fill-color: #FFFFFF;\n",
              "      --disabled-bg-color: #3B4455;\n",
              "      --disabled-fill-color: #666;\n",
              "  }\n",
              "\n",
              "  .colab-df-quickchart {\n",
              "    background-color: var(--bg-color);\n",
              "    border: none;\n",
              "    border-radius: 50%;\n",
              "    cursor: pointer;\n",
              "    display: none;\n",
              "    fill: var(--fill-color);\n",
              "    height: 32px;\n",
              "    padding: 0;\n",
              "    width: 32px;\n",
              "  }\n",
              "\n",
              "  .colab-df-quickchart:hover {\n",
              "    background-color: var(--hover-bg-color);\n",
              "    box-shadow: 0 1px 2px rgba(60, 64, 67, 0.3), 0 1px 3px 1px rgba(60, 64, 67, 0.15);\n",
              "    fill: var(--button-hover-fill-color);\n",
              "  }\n",
              "\n",
              "  .colab-df-quickchart-complete:disabled,\n",
              "  .colab-df-quickchart-complete:disabled:hover {\n",
              "    background-color: var(--disabled-bg-color);\n",
              "    fill: var(--disabled-fill-color);\n",
              "    box-shadow: none;\n",
              "  }\n",
              "\n",
              "  .colab-df-spinner {\n",
              "    border: 2px solid var(--fill-color);\n",
              "    border-color: transparent;\n",
              "    border-bottom-color: var(--fill-color);\n",
              "    animation:\n",
              "      spin 1s steps(1) infinite;\n",
              "  }\n",
              "\n",
              "  @keyframes spin {\n",
              "    0% {\n",
              "      border-color: transparent;\n",
              "      border-bottom-color: var(--fill-color);\n",
              "      border-left-color: var(--fill-color);\n",
              "    }\n",
              "    20% {\n",
              "      border-color: transparent;\n",
              "      border-left-color: var(--fill-color);\n",
              "      border-top-color: var(--fill-color);\n",
              "    }\n",
              "    30% {\n",
              "      border-color: transparent;\n",
              "      border-left-color: var(--fill-color);\n",
              "      border-top-color: var(--fill-color);\n",
              "      border-right-color: var(--fill-color);\n",
              "    }\n",
              "    40% {\n",
              "      border-color: transparent;\n",
              "      border-right-color: var(--fill-color);\n",
              "      border-top-color: var(--fill-color);\n",
              "    }\n",
              "    60% {\n",
              "      border-color: transparent;\n",
              "      border-right-color: var(--fill-color);\n",
              "    }\n",
              "    80% {\n",
              "      border-color: transparent;\n",
              "      border-right-color: var(--fill-color);\n",
              "      border-bottom-color: var(--fill-color);\n",
              "    }\n",
              "    90% {\n",
              "      border-color: transparent;\n",
              "      border-bottom-color: var(--fill-color);\n",
              "    }\n",
              "  }\n",
              "</style>\n",
              "\n",
              "  <script>\n",
              "    async function quickchart(key) {\n",
              "      const quickchartButtonEl =\n",
              "        document.querySelector('#' + key + ' button');\n",
              "      quickchartButtonEl.disabled = true;  // To prevent multiple clicks.\n",
              "      quickchartButtonEl.classList.add('colab-df-spinner');\n",
              "      try {\n",
              "        const charts = await google.colab.kernel.invokeFunction(\n",
              "            'suggestCharts', [key], {});\n",
              "      } catch (error) {\n",
              "        console.error('Error during call to suggestCharts:', error);\n",
              "      }\n",
              "      quickchartButtonEl.classList.remove('colab-df-spinner');\n",
              "      quickchartButtonEl.classList.add('colab-df-quickchart-complete');\n",
              "    }\n",
              "    (() => {\n",
              "      let quickchartButtonEl =\n",
              "        document.querySelector('#df-909bab7f-8dbe-4fc0-85c4-250f42523110 button');\n",
              "      quickchartButtonEl.style.display =\n",
              "        google.colab.kernel.accessAllowed ? 'block' : 'none';\n",
              "    })();\n",
              "  </script>\n",
              "</div>\n",
              "\n",
              "    </div>\n",
              "  </div>\n"
            ],
            "application/vnd.google.colaboratory.intrinsic+json": {
              "type": "dataframe",
              "summary": "{\n  \"name\": \"tabla(valores_x,iteraciones)\",\n  \"rows\": 40,\n  \"fields\": [\n    {\n      \"column\": \"X\",\n      \"properties\": {\n        \"dtype\": \"number\",\n        \"std\": 35.88420658244072,\n        \"min\": 0.0,\n        \"max\": 100.0,\n        \"num_unique_values\": 8,\n        \"samples\": [\n          5.0,\n          60.0,\n          0.0\n        ],\n        \"semantic_type\": \"\",\n        \"description\": \"\"\n      }\n    },\n    {\n      \"column\": \"Iteraiones\",\n      \"properties\": {\n        \"dtype\": \"number\",\n        \"std\": 388.16332803443606,\n        \"min\": 10.0,\n        \"max\": 1000.0,\n        \"num_unique_values\": 5,\n        \"samples\": [\n          20.0,\n          1000.0,\n          50.0\n        ],\n        \"semantic_type\": \"\",\n        \"description\": \"\"\n      }\n    },\n    {\n      \"column\": \"Suma\",\n      \"properties\": {\n        \"dtype\": \"number\",\n        \"std\": 8.428028043852842e+40,\n        \"min\": -4.023252419527755e+25,\n        \"max\": 5.330352960518475e+41,\n        \"num_unique_values\": 27,\n        \"samples\": [\n          -0.9576594802119018,\n          1.3567970030379629e+17,\n          374048792608.3595\n        ],\n        \"semantic_type\": \"\",\n        \"description\": \"\"\n      }\n    },\n    {\n      \"column\": \"cos\",\n      \"properties\": {\n        \"dtype\": \"number\",\n        \"std\": 0.7420234080643134,\n        \"min\": -0.9576594803233847,\n        \"max\": 1.0,\n        \"num_unique_values\": 8,\n        \"samples\": [\n          0.28366218546322625,\n          -0.9524129804151563,\n          1.0\n        ],\n        \"semantic_type\": \"\",\n        \"description\": \"\"\n      }\n    },\n    {\n      \"column\": \"Error\",\n      \"properties\": {\n        \"dtype\": \"number\",\n        \"std\": 9.773679221232161e+40,\n        \"min\": -7.647820309736037e+32,\n        \"max\": 6.181417491626208e+41,\n        \"num_unique_values\": 27,\n        \"samples\": [\n          -1.1641175727251653e-10,\n          -1.424588945067229e+17,\n          448379667023.9687\n        ],\n        \"semantic_type\": \"\",\n        \"description\": \"\"\n      }\n    }\n  ]\n}"
            }
          },
          "metadata": {},
          "execution_count": 33
        }
      ]
    },
    {
      "cell_type": "markdown",
      "source": [
        "Datos Estrellas"
      ],
      "metadata": {
        "id": "QsrghtDY4qr-"
      }
    },
    {
      "cell_type": "code",
      "source": [
        "from pylab import scatter,xlabel,ylabel,xlim,ylim,show\n",
        "from numpy import loadtxt\n"
      ],
      "metadata": {
        "id": "vC67CuCV4sBd"
      },
      "execution_count": null,
      "outputs": []
    },
    {
      "cell_type": "code",
      "source": [
        "data = loadtxt(\"/stars.data.dat.txt\",float)\n",
        "x = data[:,0]\n",
        "y = data[:,1]\n",
        "\n",
        "scatter(x,y)\n",
        "xlabel(\"Temperature\")\n",
        "ylabel(\"Magnitude\")\n",
        "xlim(0,13000)\n",
        "ylim(-5,20)\n",
        "show()"
      ],
      "metadata": {
        "colab": {
          "base_uri": "https://localhost:8080/",
          "height": 455
        },
        "id": "k2BpwCA545FR",
        "outputId": "452b88d4-bee1-43b9-cea0-cf809784070f"
      },
      "execution_count": null,
      "outputs": [
        {
          "output_type": "display_data",
          "data": {
            "text/plain": [
              "<Figure size 640x480 with 1 Axes>"
            ],
            "image/png": "[encoded data removed]"
          },
          "metadata": {}
        }
      ]
    },
    {
      "cell_type": "markdown",
      "source": [
        "Reproducción"
      ],
      "metadata": {
        "id": "NHFLaVFg4vby"
      }
    },
    {
      "cell_type": "code",
      "source": [
        "plt.scatter (x,y,c=\"yellow\")\n",
        "plt.grid(c=\"g\")\n",
        "plt.title(\"Stars\")\n",
        "xlabel(\"Temperature\")\n",
        "ylabel(\"Magnitude\")\n",
        "plt.style.use('dark_background')"
      ],
      "metadata": {
        "colab": {
          "base_uri": "https://localhost:8080/",
          "height": 472
        },
        "id": "f3JQYGlS5x5S",
        "outputId": "a5114727-bc5d-4b61-9423-6da486e53e76"
      },
      "execution_count": null,
      "outputs": [
        {
          "output_type": "display_data",
          "data": {
            "text/plain": [
              "<Figure size 640x480 with 1 Axes>"
            ],
            "image/png": "[encoded data removed]"
          },
          "metadata": {}
        }
      ]
    },
    {
      "cell_type": "markdown",
      "source": [
        "Alturas"
      ],
      "metadata": {
        "id": "ycLr1is06Av-"
      }
    },
    {
      "cell_type": "code",
      "source": [
        "altura5 = loadtxt(\"/altura5.dat.txt\",float)\n",
        "altura6 = loadtxt(\"/altura6.dat.txt\",float)"
      ],
      "metadata": {
        "id": "jecI2-hb6Cdd"
      },
      "execution_count": null,
      "outputs": []
    },
    {
      "cell_type": "code",
      "source": [
        "altura5[:,0]\n",
        "altura6.shape"
      ],
      "metadata": {
        "colab": {
          "base_uri": "https://localhost:8080/"
        },
        "id": "GxgCqDB86Foj",
        "outputId": "407e071a-15d5-41ac-8314-c8e9f5f9b900"
      },
      "execution_count": null,
      "outputs": [
        {
          "output_type": "execute_result",
          "data": {
            "text/plain": [
              "(100000,)"
            ]
          },
          "metadata": {},
          "execution_count": 50
        }
      ]
    },
    {
      "cell_type": "code",
      "source": [
        "plt.plot(altura5[:,0],altura5[:,1],label = \"1\")\n",
        "plt.plot(altura5[:,0],altura5[:,2],label = \"2\")\n",
        "plt.plot(altura5[:,0],altura5[:,3],label = \"3\")\n",
        "plt.legend()\n",
        "plt.style.use('default')"
      ],
      "metadata": {
        "colab": {
          "base_uri": "https://localhost:8080/",
          "height": 430
        },
        "id": "7XY698yH6CtM",
        "outputId": "3c15a899-688c-46cb-efff-b1fa41796497"
      },
      "execution_count": null,
      "outputs": [
        {
          "output_type": "display_data",
          "data": {
            "text/plain": [
              "<Figure size 640x480 with 1 Axes>"
            ],
            "image/png": "[encoded data removed]"
          },
          "metadata": {}
        }
      ]
    },
    {
      "cell_type": "code",
      "source": [
        "plt.boxplot(altura6)\n",
        "plt.title('Boxplot')\n",
        "plt.ylabel('Valor')\n",
        "plt.show()"
      ],
      "metadata": {
        "colab": {
          "base_uri": "https://localhost:8080/",
          "height": 452
        },
        "id": "85SfQgjX6C3l",
        "outputId": "0da28af9-f3ea-449d-84c7-664fdefe1cc0"
      },
      "execution_count": null,
      "outputs": [
        {
          "output_type": "display_data",
          "data": {
            "text/plain": [
              "<Figure size 640x480 with 1 Axes>"
            ],
            "image/png": "[encoded data removed]"
          },
          "metadata": {}
        }
      ]
    },
    {
      "cell_type": "code",
      "source": [
        "import seaborn as sns\n",
        "sns.violinplot(altura6)\n",
        "plt.title('Violin Plot')\n",
        "plt.show()"
      ],
      "metadata": {
        "id": "6Bra4q4P6nRV",
        "outputId": "3e8d922f-a0b0-4e60-d6e2-cffb68c6a19c",
        "colab": {
          "base_uri": "https://localhost:8080/",
          "height": 433
        }
      },
      "execution_count": null,
      "outputs": [
        {
          "output_type": "display_data",
          "data": {
            "text/plain": [
              "<Figure size 640x480 with 1 Axes>"
            ],
            "image/png": "[encoded data removed]"
          },
          "metadata": {}
        }
      ]
    }
  ]
}